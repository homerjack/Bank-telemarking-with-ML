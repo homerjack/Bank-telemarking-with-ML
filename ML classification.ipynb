{
 "cells": [
  {
   "cell_type": "markdown",
   "metadata": {},
   "source": [
    "# Predicting bank telemarketing success\n",
    "**Note: This python notebook only contains the python script used for the assignment and should not be read as a stand-alone document. Please read the assignment write-up in the Word document before reviewing the python notebook as the Word document contains the explanations for certain decisions made within the python notebook.**"
   ]
  },
  {
   "cell_type": "code",
   "execution_count": 1,
   "metadata": {},
   "outputs": [],
   "source": [
    "#Import of libraries used\n",
    "import os\n",
    "import pandas as pd\n",
    "import matplotlib.pyplot as plt\n",
    "import seaborn as sns\n",
    "import numpy as np\n",
    "\n",
    "#Fixing the random seed for the entire workpaper\n",
    "np.random.seed(2020)\n",
    "\n",
    "#Import datset\n",
    "df_old = pd.read_excel(\"Processed_bank_full.xlsx\")"
   ]
  },
  {
   "cell_type": "raw",
   "metadata": {},
   "source": []
  },
  {
   "cell_type": "markdown",
   "metadata": {},
   "source": [
    "# 2.2 Data pre-processing\n",
    "Data pre-processing consists of the following:\n",
    "- Data cleansing\n",
    "- Feature engineering\n",
    "- Data visualisation"
   ]
  },
  {
   "cell_type": "markdown",
   "metadata": {},
   "source": [
    "### 2.2.1 Data cleansing"
   ]
  },
  {
   "cell_type": "code",
   "execution_count": 2,
   "metadata": {},
   "outputs": [
    {
     "name": "stdout",
     "output_type": "stream",
     "text": [
      "<class 'pandas.core.frame.DataFrame'>\n",
      "RangeIndex: 41188 entries, 0 to 41187\n",
      "Data columns (total 21 columns):\n",
      " #   Column          Non-Null Count  Dtype  \n",
      "---  ------          --------------  -----  \n",
      " 0   age             41188 non-null  int64  \n",
      " 1   job             41188 non-null  object \n",
      " 2   marital         41188 non-null  object \n",
      " 3   education       41188 non-null  object \n",
      " 4   default         41188 non-null  object \n",
      " 5   housing         41188 non-null  object \n",
      " 6   loan            41188 non-null  object \n",
      " 7   contact         41188 non-null  object \n",
      " 8   month           41188 non-null  object \n",
      " 9   day_of_week     41188 non-null  object \n",
      " 10  duration        41188 non-null  int64  \n",
      " 11  campaign        41188 non-null  int64  \n",
      " 12  pdays           41188 non-null  int64  \n",
      " 13  previous        41188 non-null  int64  \n",
      " 14  poutcome        41188 non-null  object \n",
      " 15  emp.var.rate    41188 non-null  float64\n",
      " 16  cons.price.idx  41188 non-null  float64\n",
      " 17  cons.conf.idx   41188 non-null  float64\n",
      " 18  euribor3m       41188 non-null  float64\n",
      " 19  nr.employed     41188 non-null  int64  \n",
      " 20  y               41188 non-null  object \n",
      "dtypes: float64(4), int64(6), object(11)\n",
      "memory usage: 6.6+ MB\n"
     ]
    }
   ],
   "source": [
    "#Read the dataset\n",
    "df_old.info()\n",
    "df_pro = df_old.copy()"
   ]
  },
  {
   "cell_type": "code",
   "execution_count": 3,
   "metadata": {},
   "outputs": [
    {
     "name": "stdout",
     "output_type": "stream",
     "text": [
      "<class 'pandas.core.frame.DataFrame'>\n",
      "RangeIndex: 41188 entries, 0 to 41187\n",
      "Data columns (total 21 columns):\n",
      " #   Column              Non-Null Count  Dtype  \n",
      "---  ------              --------------  -----  \n",
      " 0   age                 41188 non-null  int64  \n",
      " 1   job                 41188 non-null  object \n",
      " 2   marital             41188 non-null  object \n",
      " 3   education           41188 non-null  object \n",
      " 4   credit_default      41188 non-null  object \n",
      " 5   house_loan          41188 non-null  object \n",
      " 6   personal_loan       41188 non-null  object \n",
      " 7   contact             41188 non-null  object \n",
      " 8   month               41188 non-null  object \n",
      " 9   day_of_week         41188 non-null  object \n",
      " 10  duration            41188 non-null  int64  \n",
      " 11  num_campaign        41188 non-null  int64  \n",
      " 12  p_days              41188 non-null  int64  \n",
      " 13  p_num               41188 non-null  int64  \n",
      " 14  p_outcome           41188 non-null  object \n",
      " 15  EVI                 41188 non-null  float64\n",
      " 16  CPI                 41188 non-null  float64\n",
      " 17  CCI                 41188 non-null  float64\n",
      " 18  euribor3m           41188 non-null  float64\n",
      " 19  country_employment  41188 non-null  int64  \n",
      " 20  outcome             41188 non-null  object \n",
      "dtypes: float64(4), int64(6), object(11)\n",
      "memory usage: 6.6+ MB\n"
     ]
    }
   ],
   "source": [
    "#Replace column headers with recognisable feature names\n",
    "df_pro.rename(columns={\"default\": \"credit_default\", \n",
    "                   \"housing\": \"house_loan\", \n",
    "                   \"loan\": \"personal_loan\",\n",
    "                   \"campaign\": \"num_campaign\",\n",
    "                   \"pdays\" : \"p_days\", \n",
    "                   \"previous\" : \"p_num\", \n",
    "                   \"poutcome\" : \"p_outcome\", \n",
    "                   \"emp.var.rate\" : \"EVI\", \n",
    "                   \"cons.price.idx\" : \"CPI\", \n",
    "                   \"cons.conf.idx\" : \"CCI\", \n",
    "                   \"nr.employed\" : \"country_employment\", \n",
    "                   \"y\" : \"outcome\"}, inplace = True)\n",
    "df_pro.info()"
   ]
  },
  {
   "cell_type": "code",
   "execution_count": 4,
   "metadata": {},
   "outputs": [],
   "source": [
    "#Drop features pertaining to current campaign\n",
    "df_pro.drop(columns = [\"duration\", \"num_campaign\"], inplace = True)"
   ]
  },
  {
   "cell_type": "code",
   "execution_count": 5,
   "metadata": {},
   "outputs": [
    {
     "name": "stdout",
     "output_type": "stream",
     "text": [
      "Number of missing values:\n",
      "\tage: 0\n",
      "\tjob: 330\n",
      "\tmarital: 80\n",
      "\teducation: 1731\n",
      "\tcredit_default: 8597\n",
      "\thouse_loan: 990\n",
      "\tpersonal_loan: 990\n",
      "\tcontact: 0\n",
      "\tmonth: 0\n",
      "\tday_of_week: 0\n",
      "\tp_days: 0\n",
      "\tp_num: 0\n",
      "\tp_outcome: 0\n",
      "\tEVI: 0\n",
      "\tCPI: 0\n",
      "\tCCI: 0\n",
      "\teuribor3m: 0\n",
      "\tcountry_employment: 0\n",
      "\toutcome: 0\n"
     ]
    }
   ],
   "source": [
    "#Replace all \"unknown\" values with NaN\n",
    "df_pro.replace(\"unknown\", np.NaN, inplace = True)\n",
    "\n",
    "#Generate list of all columns with NaN\n",
    "print(\"Number of missing values:\")\n",
    "for col in df_pro.columns:\n",
    "    print(\"\\t%s: %d\" % (col, df_pro[col].isna().sum()))"
   ]
  },
  {
   "cell_type": "code",
   "execution_count": 6,
   "metadata": {},
   "outputs": [],
   "source": [
    "#NaN values noted in features \"job\", \"marital\", \"education\", \"credit_default\", \"house_loan\", \"personal_loan\"\n",
    "#To replace Nan with the respective mode value of each feature\n",
    "for col in df_pro.columns:\n",
    "    df_pro[col].fillna(df_pro[col].value_counts().idxmax(), inplace = True)"
   ]
  },
  {
   "cell_type": "code",
   "execution_count": 7,
   "metadata": {},
   "outputs": [
    {
     "data": {
      "text/html": [
       "<div>\n",
       "<style scoped>\n",
       "    .dataframe tbody tr th:only-of-type {\n",
       "        vertical-align: middle;\n",
       "    }\n",
       "\n",
       "    .dataframe tbody tr th {\n",
       "        vertical-align: top;\n",
       "    }\n",
       "\n",
       "    .dataframe thead th {\n",
       "        text-align: right;\n",
       "    }\n",
       "</style>\n",
       "<table border=\"1\" class=\"dataframe\">\n",
       "  <thead>\n",
       "    <tr style=\"text-align: right;\">\n",
       "      <th></th>\n",
       "      <th>age</th>\n",
       "      <th>job</th>\n",
       "      <th>marital</th>\n",
       "      <th>education</th>\n",
       "      <th>credit_default</th>\n",
       "      <th>house_loan</th>\n",
       "      <th>personal_loan</th>\n",
       "      <th>contact</th>\n",
       "      <th>month</th>\n",
       "      <th>day_of_week</th>\n",
       "      <th>p_days</th>\n",
       "      <th>p_num</th>\n",
       "      <th>p_outcome</th>\n",
       "      <th>EVI</th>\n",
       "      <th>CPI</th>\n",
       "      <th>CCI</th>\n",
       "      <th>euribor3m</th>\n",
       "      <th>country_employment</th>\n",
       "      <th>outcome</th>\n",
       "    </tr>\n",
       "  </thead>\n",
       "  <tbody>\n",
       "  </tbody>\n",
       "</table>\n",
       "</div>"
      ],
      "text/plain": [
       "Empty DataFrame\n",
       "Columns: [age, job, marital, education, credit_default, house_loan, personal_loan, contact, month, day_of_week, p_days, p_num, p_outcome, EVI, CPI, CCI, euribor3m, country_employment, outcome]\n",
       "Index: []"
      ]
     },
     "execution_count": 7,
     "metadata": {},
     "output_type": "execute_result"
    }
   ],
   "source": [
    "#Check that all NaN values have been filled\n",
    "df_pro[df_pro.isna().any(axis = 1)]"
   ]
  },
  {
   "cell_type": "raw",
   "metadata": {},
   "source": []
  },
  {
   "cell_type": "markdown",
   "metadata": {},
   "source": [
    "### 2.2.2 Feature engineering"
   ]
  },
  {
   "cell_type": "code",
   "execution_count": 8,
   "metadata": {},
   "outputs": [
    {
     "data": {
      "text/plain": [
       "array(['nonono', 'noyesno', 'nonoyes', 'noyesyes', 'yesnono', 'yesyesno'],\n",
       "      dtype=object)"
      ]
     },
     "execution_count": 8,
     "metadata": {},
     "output_type": "execute_result"
    }
   ],
   "source": [
    "#Create new feature \"debt\"\n",
    "df_pro[\"debt\"] = df_pro[\"credit_default\"] + df_pro[\"house_loan\"] + df_pro[\"personal_loan\"]\n",
    "\n",
    "df_pro[\"debt\"].unique()"
   ]
  },
  {
   "cell_type": "code",
   "execution_count": 9,
   "metadata": {},
   "outputs": [
    {
     "data": {
      "text/plain": [
       "array(['no', 'yes'], dtype=object)"
      ]
     },
     "execution_count": 9,
     "metadata": {},
     "output_type": "execute_result"
    }
   ],
   "source": [
    "#Replace the different permutations in \"debt\" with the respective intended value\n",
    "df_pro[\"debt\"].replace(\"nonono\", \"no\", inplace = True)\n",
    "df_pro[\"debt\"].replace(\"noyesno\", \"yes\", inplace = True)\n",
    "df_pro[\"debt\"].replace(\"noyesyes\", \"yes\", inplace = True)\n",
    "df_pro[\"debt\"].replace(\"nonoyes\", \"yes\", inplace = True)\n",
    "df_pro[\"debt\"].replace(\"yesnono\", \"yes\", inplace = True)\n",
    "df_pro[\"debt\"].replace(\"yesyesno\", \"yes\", inplace = True)\n",
    "\n",
    "#Check that all permutations have been replaced\n",
    "df_pro[\"debt\"].unique()"
   ]
  },
  {
   "cell_type": "code",
   "execution_count": 10,
   "metadata": {},
   "outputs": [],
   "source": [
    "#Dropping features \"credit_default\", \"house_loan\", \"personal_loan\", \"p_days\", \"p_num\", \"country_employment\"\n",
    "df_pro.drop(columns = [\"credit_default\", \"house_loan\", \"personal_loan\", \"p_days\", \"p_num\", \"country_employment\"], inplace = True)"
   ]
  },
  {
   "cell_type": "code",
   "execution_count": 11,
   "metadata": {},
   "outputs": [
    {
     "name": "stdout",
     "output_type": "stream",
     "text": [
      "<class 'pandas.core.frame.DataFrame'>\n",
      "RangeIndex: 41188 entries, 0 to 41187\n",
      "Data columns (total 14 columns):\n",
      " #   Column       Non-Null Count  Dtype  \n",
      "---  ------       --------------  -----  \n",
      " 0   age          41188 non-null  int64  \n",
      " 1   job          41188 non-null  object \n",
      " 2   marital      41188 non-null  object \n",
      " 3   education    41188 non-null  object \n",
      " 4   contact      41188 non-null  object \n",
      " 5   month        41188 non-null  object \n",
      " 6   day_of_week  41188 non-null  object \n",
      " 7   p_outcome    41188 non-null  object \n",
      " 8   EVI          41188 non-null  float64\n",
      " 9   CPI          41188 non-null  float64\n",
      " 10  CCI          41188 non-null  float64\n",
      " 11  euribor3m    41188 non-null  float64\n",
      " 12  outcome      41188 non-null  object \n",
      " 13  debt         41188 non-null  object \n",
      "dtypes: float64(4), int64(1), object(9)\n",
      "memory usage: 4.4+ MB\n"
     ]
    }
   ],
   "source": [
    "df_pro.info()"
   ]
  },
  {
   "cell_type": "raw",
   "metadata": {},
   "source": []
  },
  {
   "cell_type": "markdown",
   "metadata": {},
   "source": [
    "### 2.3 Data visualisation"
   ]
  },
  {
   "cell_type": "code",
   "execution_count": 12,
   "metadata": {},
   "outputs": [
    {
     "data": {
      "text/plain": [
       "['age', 'EVI', 'CPI', 'CCI', 'euribor3m']"
      ]
     },
     "execution_count": 12,
     "metadata": {},
     "output_type": "execute_result"
    }
   ],
   "source": [
    "#Create a copy of dataset for visualisation purposes\n",
    "#The train and test datasets will be individually scaled again later to prevent data leakage from test data.\n",
    "df_visual = df_pro.copy()\n",
    "\n",
    "#Selct all the numeric columns (float & integer)\n",
    "num_cols = [col for col in df_visual.columns if df_visual[col].dtype != np.object]\n",
    "\n",
    "num_cols"
   ]
  },
  {
   "cell_type": "code",
   "execution_count": 13,
   "metadata": {},
   "outputs": [],
   "source": [
    "#Scale the numeric columns\n",
    "from sklearn.preprocessing import MinMaxScaler\n",
    " \n",
    "df_visual[num_cols] = MinMaxScaler().fit_transform(df_visual[num_cols])"
   ]
  },
  {
   "cell_type": "markdown",
   "metadata": {},
   "source": [
    "##### Boxplot of numeric features"
   ]
  },
  {
   "cell_type": "code",
   "execution_count": 14,
   "metadata": {},
   "outputs": [
    {
     "data": {
      "text/plain": [
       "<matplotlib.axes._subplots.AxesSubplot at 0x238c4e1e4c8>"
      ]
     },
     "execution_count": 14,
     "metadata": {},
     "output_type": "execute_result"
    },
    {
     "data": {
      "image/png": "[encoded data removed]",
      "text/plain": [
       "<Figure size 432x288 with 1 Axes>"
      ]
     },
     "metadata": {
      "needs_background": "light"
     },
     "output_type": "display_data"
    }
   ],
   "source": [
    "#Boxplot of numeric features to identify outliers\n",
    "sns.boxplot(data = df_visual, notch = 1)"
   ]
  },
  {
   "cell_type": "markdown",
   "metadata": {},
   "source": [
    "##### Heatmap correlation of numeric features"
   ]
  },
  {
   "cell_type": "code",
   "execution_count": 15,
   "metadata": {},
   "outputs": [
    {
     "data": {
      "text/plain": [
       "<matplotlib.axes._subplots.AxesSubplot at 0x238c3f61688>"
      ]
     },
     "execution_count": 15,
     "metadata": {},
     "output_type": "execute_result"
    },
    {
     "data": {
      "image/png": "[encoded data removed]",
      "text/plain": [
       "<Figure size 432x288 with 2 Axes>"
      ]
     },
     "metadata": {
      "needs_background": "light"
     },
     "output_type": "display_data"
    }
   ],
   "source": [
    "#Heatmap of numeric features to identify correlation\n",
    "sns.heatmap(df_visual.corr(), center = 0, cmap = \"vlag\", linewidths = 0.5, annot = True)"
   ]
  },
  {
   "cell_type": "code",
   "execution_count": 16,
   "metadata": {},
   "outputs": [],
   "source": [
    "#Drop feature \"euribor3m\"\n",
    "df_pro.drop(columns = \"euribor3m\", inplace = True)"
   ]
  },
  {
   "cell_type": "code",
   "execution_count": 17,
   "metadata": {},
   "outputs": [
    {
     "name": "stdout",
     "output_type": "stream",
     "text": [
      "<class 'pandas.core.frame.DataFrame'>\n",
      "RangeIndex: 41188 entries, 0 to 41187\n",
      "Data columns (total 13 columns):\n",
      " #   Column       Non-Null Count  Dtype  \n",
      "---  ------       --------------  -----  \n",
      " 0   age          41188 non-null  int64  \n",
      " 1   job          41188 non-null  object \n",
      " 2   marital      41188 non-null  object \n",
      " 3   education    41188 non-null  object \n",
      " 4   contact      41188 non-null  object \n",
      " 5   month        41188 non-null  object \n",
      " 6   day_of_week  41188 non-null  object \n",
      " 7   p_outcome    41188 non-null  object \n",
      " 8   EVI          41188 non-null  float64\n",
      " 9   CPI          41188 non-null  float64\n",
      " 10  CCI          41188 non-null  float64\n",
      " 11  outcome      41188 non-null  object \n",
      " 12  debt         41188 non-null  object \n",
      "dtypes: float64(3), int64(1), object(9)\n",
      "memory usage: 4.1+ MB\n"
     ]
    }
   ],
   "source": [
    "df_pro.info()"
   ]
  },
  {
   "cell_type": "markdown",
   "metadata": {},
   "source": [
    "##### Encoding"
   ]
  },
  {
   "cell_type": "code",
   "execution_count": 18,
   "metadata": {},
   "outputs": [
    {
     "data": {
      "text/plain": [
       "{'outcome': {'no': 0, 'yes': 1}}"
      ]
     },
     "execution_count": 18,
     "metadata": {},
     "output_type": "execute_result"
    }
   ],
   "source": [
    "#Label encoding for target: \n",
    "from sklearn.preprocessing import LabelEncoder\n",
    "\n",
    "le = LabelEncoder()\n",
    "df_pro[\"outcome\"] = le.fit_transform(df_pro[\"outcome\"])\n",
    "\n",
    "#Create dictionary of transformation for easier reference\n",
    "keys = le.classes_\n",
    "values = le.transform(le.classes_)\n",
    "target_dict = {\"outcome\": dict(zip(keys, values))}\n",
    "target_dict"
   ]
  },
  {
   "cell_type": "code",
   "execution_count": 19,
   "metadata": {},
   "outputs": [],
   "source": [
    "#One-hot encoding for categorical features:\n",
    "from sklearn.preprocessing import OneHotEncoder\n",
    "\n",
    "#Find all categorical columns\n",
    "cat_cols = [col for col in df_pro.columns if df_pro[col].dtype == np.object]\n",
    "\n",
    "#Replace all values in categorical columns with colname_value and one-hot encode\n",
    "#This one-hot encoding method is modified from Sukanda Roy's one-hot encoding script\n",
    "#Source: https://towardsdatascience.com/machine-learning-case-study-a-data-driven-approach-to-predict-the-success-of-bank-telemarketing-20e37d46c31c\n",
    "from sklearn.feature_extraction.text import CountVectorizer\n",
    "\n",
    "def add_onehot_to_dataframe (sparse, df, vectorizer, name):\n",
    "    '''\n",
    "        This function adds one-hot encoded column to the dataframe.\n",
    "    '''\n",
    "    for i, col in enumerate (vectorizer.get_feature_names()):\n",
    "        colname = name + \"_\" + col\n",
    "        df[colname] = sparse[:, i].toarray().ravel().tolist()\n",
    "        \n",
    "    return df\n",
    "\n",
    "def OneHotEncoder (categorical_cols, df):\n",
    "    '''\n",
    "        This function takes categorical column names as inputs. The objective\n",
    "        of this function is to take the column names iteratively and encode the \n",
    "        features using One hot Encoding mechanism and also adding the encoded feature\n",
    "        to the respective dataframe\n",
    "    '''\n",
    "    for i in categorical_cols:\n",
    "        Vectorizer = CountVectorizer(token_pattern = \"[A-Za-z0-9-.]+\")\n",
    "        print(\"Encoding for feature: \", i)\n",
    "    \n",
    "        #Encoding training dataset \n",
    "        temp_cols = Vectorizer.fit_transform(df[i])\n",
    "        X_train = add_onehot_to_dataframe(temp_cols, df, Vectorizer, i)\n",
    "        \n",
    "    #Drop the one-hot encoded columns\n",
    "    for i in categorical_cols:\n",
    "        df.drop(columns = i, inplace = True)\n",
    "        print(\"Column \" + i + \" dropped.\")\n",
    "        \n",
    "    print(\"One-hot encoding completed.\")\n",
    "    "
   ]
  },
  {
   "cell_type": "code",
   "execution_count": 20,
   "metadata": {},
   "outputs": [
    {
     "name": "stdout",
     "output_type": "stream",
     "text": [
      "Encoding for feature:  job\n",
      "Encoding for feature:  marital\n",
      "Encoding for feature:  education\n",
      "Encoding for feature:  contact\n",
      "Encoding for feature:  month\n",
      "Encoding for feature:  day_of_week\n",
      "Encoding for feature:  p_outcome\n",
      "Encoding for feature:  debt\n",
      "Column job dropped.\n",
      "Column marital dropped.\n",
      "Column education dropped.\n",
      "Column contact dropped.\n",
      "Column month dropped.\n",
      "Column day_of_week dropped.\n",
      "Column p_outcome dropped.\n",
      "Column debt dropped.\n",
      "One-hot encoding completed.\n"
     ]
    }
   ],
   "source": [
    "#Implementing the one-hot encoding function\n",
    "OneHotEncoder(cat_cols, df_pro)"
   ]
  },
  {
   "cell_type": "code",
   "execution_count": 21,
   "metadata": {},
   "outputs": [
    {
     "name": "stdout",
     "output_type": "stream",
     "text": [
      "<class 'pandas.core.frame.DataFrame'>\n",
      "RangeIndex: 41188 entries, 0 to 41187\n",
      "Data columns (total 48 columns):\n",
      " #   Column                         Non-Null Count  Dtype  \n",
      "---  ------                         --------------  -----  \n",
      " 0   age                            41188 non-null  int64  \n",
      " 1   EVI                            41188 non-null  float64\n",
      " 2   CPI                            41188 non-null  float64\n",
      " 3   CCI                            41188 non-null  float64\n",
      " 4   outcome                        41188 non-null  int32  \n",
      " 5   job_admin.                     41188 non-null  int64  \n",
      " 6   job_blue-collar                41188 non-null  int64  \n",
      " 7   job_entrepreneur               41188 non-null  int64  \n",
      " 8   job_housemaid                  41188 non-null  int64  \n",
      " 9   job_management                 41188 non-null  int64  \n",
      " 10  job_retired                    41188 non-null  int64  \n",
      " 11  job_self-employed              41188 non-null  int64  \n",
      " 12  job_services                   41188 non-null  int64  \n",
      " 13  job_student                    41188 non-null  int64  \n",
      " 14  job_technician                 41188 non-null  int64  \n",
      " 15  job_unemployed                 41188 non-null  int64  \n",
      " 16  marital_divorced               41188 non-null  int64  \n",
      " 17  marital_married                41188 non-null  int64  \n",
      " 18  marital_single                 41188 non-null  int64  \n",
      " 19  education_basic.4y             41188 non-null  int64  \n",
      " 20  education_basic.6y             41188 non-null  int64  \n",
      " 21  education_basic.9y             41188 non-null  int64  \n",
      " 22  education_high.school          41188 non-null  int64  \n",
      " 23  education_illiterate           41188 non-null  int64  \n",
      " 24  education_professional.course  41188 non-null  int64  \n",
      " 25  education_university.degree    41188 non-null  int64  \n",
      " 26  contact_cellular               41188 non-null  int64  \n",
      " 27  contact_telephone              41188 non-null  int64  \n",
      " 28  month_apr                      41188 non-null  int64  \n",
      " 29  month_aug                      41188 non-null  int64  \n",
      " 30  month_dec                      41188 non-null  int64  \n",
      " 31  month_jul                      41188 non-null  int64  \n",
      " 32  month_jun                      41188 non-null  int64  \n",
      " 33  month_mar                      41188 non-null  int64  \n",
      " 34  month_may                      41188 non-null  int64  \n",
      " 35  month_nov                      41188 non-null  int64  \n",
      " 36  month_oct                      41188 non-null  int64  \n",
      " 37  month_sep                      41188 non-null  int64  \n",
      " 38  day_of_week_fri                41188 non-null  int64  \n",
      " 39  day_of_week_mon                41188 non-null  int64  \n",
      " 40  day_of_week_thu                41188 non-null  int64  \n",
      " 41  day_of_week_tue                41188 non-null  int64  \n",
      " 42  day_of_week_wed                41188 non-null  int64  \n",
      " 43  p_outcome_failure              41188 non-null  int64  \n",
      " 44  p_outcome_nonexistent          41188 non-null  int64  \n",
      " 45  p_outcome_success              41188 non-null  int64  \n",
      " 46  debt_no                        41188 non-null  int64  \n",
      " 47  debt_yes                       41188 non-null  int64  \n",
      "dtypes: float64(3), int32(1), int64(44)\n",
      "memory usage: 14.9 MB\n"
     ]
    }
   ],
   "source": [
    "df_pro.info()"
   ]
  },
  {
   "cell_type": "code",
   "execution_count": 22,
   "metadata": {},
   "outputs": [],
   "source": [
    "#Split the dataset into train and test datasets\n",
    "from sklearn.model_selection import train_test_split\n",
    "\n",
    "y_col = \"outcome\"\n",
    "\n",
    "feature_cols = [x for x in df_pro.columns if x != y_col]\n",
    "X_df_pro_new = df_pro[feature_cols]\n",
    "y_df_pro_new = df_pro[y_col]\n",
    "\n",
    "X_train_1, X_test_old, y_train_1, y_test = train_test_split(X_df_pro_new, y_df_pro_new, test_size = 0.2, stratify = y_df_pro_new, random_state = 2020)"
   ]
  },
  {
   "cell_type": "code",
   "execution_count": 23,
   "metadata": {},
   "outputs": [],
   "source": [
    "#Split the train set further into train and validation datasets\n",
    "X_train_2, X_valid_old, y_train, y_valid = train_test_split(X_train_1, y_train_1, test_size = 0.2, stratify = y_train_1, random_state = 2020)"
   ]
  },
  {
   "cell_type": "code",
   "execution_count": 24,
   "metadata": {},
   "outputs": [],
   "source": [
    "#Scaling train set using MinMaxScaler\n",
    "mms = MinMaxScaler()\n",
    "X_train = mms.fit_transform(X_train_2)\n",
    "\n",
    "#Scaling validation set using parameters from train set to prevent data leakage\n",
    "X_valid = mms.transform(X_valid_old)\n",
    "\n",
    "#Scaling test set using parameters from train set to prevent data leakage\n",
    "X_test = mms.transform(X_test_old)"
   ]
  },
  {
   "cell_type": "raw",
   "metadata": {},
   "source": []
  },
  {
   "cell_type": "markdown",
   "metadata": {},
   "source": [
    "# 3. Model training and testing"
   ]
  },
  {
   "cell_type": "markdown",
   "metadata": {},
   "source": [
    "### 3.1 Model training"
   ]
  },
  {
   "cell_type": "markdown",
   "metadata": {},
   "source": [
    "##### Tree Classifiers"
   ]
  },
  {
   "cell_type": "code",
   "execution_count": 25,
   "metadata": {},
   "outputs": [],
   "source": [
    "#Mute warnings\n",
    "import warnings\n",
    "warnings.filterwarnings(\"ignore\", module = \"sklearn\")"
   ]
  },
  {
   "cell_type": "code",
   "execution_count": 26,
   "metadata": {},
   "outputs": [],
   "source": [
    "#Using Random Forest classifier\n",
    "from sklearn.ensemble import RandomForestClassifier\n",
    "from sklearn.metrics import recall_score\n",
    "\n",
    "rf = RandomForestClassifier()\n",
    "recall_list_rf = []\n",
    "\n",
    "#Using a variation of trees, compute the Recall\n",
    "for n_trees in [15, 20, 30, 40, 50, 100, 150, 200, 300, 400, 500, 600, 700]:\n",
    "    rf.set_params(n_estimators = n_trees, bootstrap = True, n_jobs = -1, random_state = 2020)\n",
    "    rf.fit(X_train, y_train)\n",
    "    y_predict = rf.predict(X_train)\n",
    "    recall = recall_score(y_train, y_predict)\n",
    "    recall_list_rf.append(pd.Series({\"n_trees\": n_trees, \"Recall\": recall}))\n",
    "    \n",
    "rf_df = pd.concat(recall_list_rf, axis = 1).T.set_index(\"n_trees\")"
   ]
  },
  {
   "cell_type": "code",
   "execution_count": 27,
   "metadata": {},
   "outputs": [],
   "source": [
    "#Using Extra Trees classifier\n",
    "from sklearn.ensemble import ExtraTreesClassifier\n",
    "\n",
    "et = ExtraTreesClassifier()\n",
    "\n",
    "recall_list_et = []\n",
    "\n",
    "#Using a variation of trees, compute the Recall\n",
    "for n_trees in [15, 20, 30, 40, 50, 100, 150, 200, 300, 400, 500, 600, 700]:\n",
    "    et.set_params(n_estimators = n_trees, bootstrap = True, n_jobs = -1, random_state = 2020)\n",
    "    et.fit(X_train, y_train)\n",
    "    y_predict = et.predict(X_train)\n",
    "    recall = recall_score(y_train, y_predict)\n",
    "    recall_list_et.append(pd.Series({\"n_trees\": n_trees, \"Recall\": recall}))\n",
    "\n",
    "et_df = pd.concat(recall_list_et, axis = 1).T.set_index(\"n_trees\")"
   ]
  },
  {
   "cell_type": "code",
   "execution_count": 28,
   "metadata": {},
   "outputs": [
    {
     "data": {
      "image/png": "[encoded data removed]",
      "text/plain": [
       "<Figure size 432x288 with 1 Axes>"
      ]
     },
     "metadata": {},
     "output_type": "display_data"
    }
   ],
   "source": [
    "#Compare Random Forest classifier and Extra Trees classifier based on Recall\n",
    "recall_df = pd.concat([rf_df.rename(columns = {\"Recall\":\"RandomForest\"}),\n",
    "                    et_df.rename(columns = {\"Recall\":\"ExtraTrees\"})], axis = 1)\n",
    "\n",
    "#Visualisation of Random Forest classifier vs Extra Trees classifier\n",
    "sns.set_context(\"poster\")\n",
    "sns.set_palette(\"dark\")\n",
    "sns.set_style(\"white\")\n",
    "\n",
    "ax = recall_df.plot(marker = \"o\")\n",
    "ax.set(ylabel = \"Recall score\");"
   ]
  },
  {
   "cell_type": "raw",
   "metadata": {},
   "source": []
  },
  {
   "cell_type": "markdown",
   "metadata": {},
   "source": [
    "##### Logistic Regression"
   ]
  },
  {
   "cell_type": "code",
   "execution_count": 29,
   "metadata": {},
   "outputs": [],
   "source": [
    "#Using Logistic Regression CV classifier\n",
    "from sklearn.linear_model import LogisticRegressionCV\n",
    "\n",
    "lg = LogisticRegressionCV()\n",
    "score_list = []\n",
    "\n",
    "#Using a variation of l1 parameters, compute the score (default = accuracy)\n",
    "#Note that the default Cs = 10, cv = None (stratified 5-folds) is used \n",
    "l1_parameter = [0, 0.1, 0.2, 0.3, 0.4, 0.5, 0.6, 0.7, 0.8, 0.9, 1.0]\n",
    "\n",
    "lg.set_params(penalty = \"elasticnet\", l1_ratios = l1_parameter, scoring = \"recall\", solver = \"saga\", random_state = 2020)\n",
    "lg.fit(X_train, y_train)\n",
    "score = lg.scores_"
   ]
  },
  {
   "cell_type": "code",
   "execution_count": 30,
   "metadata": {},
   "outputs": [
    {
     "data": {
      "text/plain": [
       "0.0    0.168316\n",
       "0.1    0.166835\n",
       "0.2    0.165926\n",
       "0.3    0.165455\n",
       "0.4    0.165051\n",
       "0.5    0.165152\n",
       "0.6    0.165286\n",
       "0.7    0.165455\n",
       "0.8    0.165758\n",
       "0.9    0.165825\n",
       "1.0    0.166061\n",
       "dtype: float64"
      ]
     },
     "execution_count": 30,
     "metadata": {},
     "output_type": "execute_result"
    }
   ],
   "source": [
    "#Find the mean score (accuracy) of each parameter\n",
    "parameters = pd.DataFrame(np.concatenate(score[1], axis = 0), columns = l1_parameter)\n",
    "parameters.mean()"
   ]
  },
  {
   "cell_type": "raw",
   "metadata": {},
   "source": []
  },
  {
   "cell_type": "markdown",
   "metadata": {},
   "source": [
    "##### Support Vector Machine"
   ]
  },
  {
   "cell_type": "code",
   "execution_count": 31,
   "metadata": {},
   "outputs": [],
   "source": [
    "#Using Linear Support Vector classifier\n",
    "from sklearn.svm import LinearSVC\n",
    "\n",
    "lsv = LinearSVC()\n",
    "\n",
    "C_range = [0.01, 0.1, 1, 10, 100, 200]\n",
    "score_l1 = []\n",
    "\n",
    "for C in C_range: \n",
    "    lsv.set_params(penalty = \"l2\", C = C, random_state = 2020)\n",
    "    lsv.fit(X_train, y_train)\n",
    "    y_predict = lsv.predict(X_train)\n",
    "    recall = recall_score(y_train, y_predict)\n",
    "    score_l1.append(recall)"
   ]
  },
  {
   "cell_type": "code",
   "execution_count": 32,
   "metadata": {},
   "outputs": [
    {
     "data": {
      "text/html": [
       "<div>\n",
       "<style scoped>\n",
       "    .dataframe tbody tr th:only-of-type {\n",
       "        vertical-align: middle;\n",
       "    }\n",
       "\n",
       "    .dataframe tbody tr th {\n",
       "        vertical-align: top;\n",
       "    }\n",
       "\n",
       "    .dataframe thead th {\n",
       "        text-align: right;\n",
       "    }\n",
       "</style>\n",
       "<table border=\"1\" class=\"dataframe\">\n",
       "  <thead>\n",
       "    <tr style=\"text-align: right;\">\n",
       "      <th></th>\n",
       "      <th>Recall score</th>\n",
       "    </tr>\n",
       "  </thead>\n",
       "  <tbody>\n",
       "    <tr>\n",
       "      <th>0.01</th>\n",
       "      <td>0.200337</td>\n",
       "    </tr>\n",
       "    <tr>\n",
       "      <th>0.10</th>\n",
       "      <td>0.211448</td>\n",
       "    </tr>\n",
       "    <tr>\n",
       "      <th>1.00</th>\n",
       "      <td>0.216498</td>\n",
       "    </tr>\n",
       "    <tr>\n",
       "      <th>10.00</th>\n",
       "      <td>0.218519</td>\n",
       "    </tr>\n",
       "    <tr>\n",
       "      <th>100.00</th>\n",
       "      <td>0.186532</td>\n",
       "    </tr>\n",
       "    <tr>\n",
       "      <th>200.00</th>\n",
       "      <td>0.146801</td>\n",
       "    </tr>\n",
       "  </tbody>\n",
       "</table>\n",
       "</div>"
      ],
      "text/plain": [
       "        Recall score\n",
       "0.01        0.200337\n",
       "0.10        0.211448\n",
       "1.00        0.216498\n",
       "10.00       0.218519\n",
       "100.00      0.186532\n",
       "200.00      0.146801"
      ]
     },
     "execution_count": 32,
     "metadata": {},
     "output_type": "execute_result"
    }
   ],
   "source": [
    "#Generate the list of scores (Recall)\n",
    "score_table = pd.DataFrame(np.asarray(score_l1), index = C_range)\n",
    "score_table.rename(columns = {0: \"Recall score\"}, inplace = True)\n",
    "score_table"
   ]
  },
  {
   "cell_type": "code",
   "execution_count": 33,
   "metadata": {},
   "outputs": [
    {
     "data": {
      "image/png": "[encoded data removed]",
      "text/plain": [
       "<Figure size 432x288 with 1 Axes>"
      ]
     },
     "metadata": {},
     "output_type": "display_data"
    }
   ],
   "source": [
    "#Visualisation of score_table\n",
    "sns.set_context(\"poster\")\n",
    "sns.set_palette(\"dark\")\n",
    "sns.set_style(\"white\")\n",
    "\n",
    "ax = score_table.plot(marker = \"o\")\n",
    "ax.set(xlabel = \"C\");"
   ]
  },
  {
   "cell_type": "raw",
   "metadata": {},
   "source": []
  },
  {
   "cell_type": "markdown",
   "metadata": {},
   "source": [
    "### 3.2 Testing on validation set"
   ]
  },
  {
   "cell_type": "markdown",
   "metadata": {},
   "source": [
    "##### Random Forest classifier"
   ]
  },
  {
   "cell_type": "code",
   "execution_count": 34,
   "metadata": {},
   "outputs": [],
   "source": [
    "#Random Forest classifier on validation set using 50 estimators\n",
    "rf_model_valid = RandomForestClassifier().set_params(n_estimators = 50, bootstrap = True, n_jobs = -1, random_state = 2020)\n",
    "rf_model_valid.fit(X_train, y_train)\n",
    "rf_y_pred = rf_model_valid.predict(X_valid)"
   ]
  },
  {
   "cell_type": "code",
   "execution_count": 35,
   "metadata": {},
   "outputs": [
    {
     "name": "stdout",
     "output_type": "stream",
     "text": [
      "              precision    recall  f1-score   support\n",
      "\n",
      "           0       0.91      0.95      0.93      5848\n",
      "           1       0.42      0.27      0.33       742\n",
      "\n",
      "    accuracy                           0.88      6590\n",
      "   macro avg       0.67      0.61      0.63      6590\n",
      "weighted avg       0.86      0.88      0.86      6590\n",
      "\n",
      "   accuracy  precision    recall        f1       auc\n",
      "0  0.876328   0.421842  0.265499  0.325889  0.609665\n"
     ]
    }
   ],
   "source": [
    "#Generating the scoring matrix of the Random Forest classifier\n",
    "from sklearn.metrics import classification_report, accuracy_score, precision_score, recall_score\n",
    "from sklearn.metrics import f1_score, roc_auc_score\n",
    "\n",
    "#Function for performance score for each outcome label\n",
    "def class_report (y, y_predict):\n",
    "    print(classification_report(y, y_predict))\n",
    "\n",
    "#Function for overcall performance score\n",
    "def performance_score (y, y_predict):\n",
    "    performance = pd.DataFrame({'accuracy': accuracy_score(y, y_predict),\n",
    "                             'precision': precision_score(y, y_predict),\n",
    "                             'recall': recall_score(y, y_predict),\n",
    "                             'f1': f1_score(y, y_predict),\n",
    "                             'auc': roc_auc_score(y, y_predict)},\n",
    "                             index = pd.Index([0]))\n",
    "\n",
    "    print(performance)\n",
    "\n",
    "\n",
    "class_report(y_valid, rf_y_pred)\n",
    "performance_score(y_valid, rf_y_pred)"
   ]
  },
  {
   "cell_type": "raw",
   "metadata": {},
   "source": []
  },
  {
   "cell_type": "markdown",
   "metadata": {},
   "source": [
    "##### Logistic Regression classifier"
   ]
  },
  {
   "cell_type": "code",
   "execution_count": 36,
   "metadata": {},
   "outputs": [],
   "source": [
    "#Logistic Regression CV classifier on test set using Ridge Regression\n",
    "lg_model_valid = LogisticRegressionCV().set_params(penalty = \"l2\", solver = \"saga\", random_state = 2020)\n",
    "lg_model_valid.fit(X_train, y_train)\n",
    "lg_y_pred = lg_model_valid.predict(X_valid)"
   ]
  },
  {
   "cell_type": "code",
   "execution_count": 37,
   "metadata": {},
   "outputs": [
    {
     "name": "stdout",
     "output_type": "stream",
     "text": [
      "              precision    recall  f1-score   support\n",
      "\n",
      "           0       0.91      0.99      0.94      5848\n",
      "           1       0.64      0.20      0.30       742\n",
      "\n",
      "    accuracy                           0.90      6590\n",
      "   macro avg       0.77      0.59      0.62      6590\n",
      "weighted avg       0.88      0.90      0.87      6590\n",
      "\n",
      "   accuracy  precision    recall        f1       auc\n",
      "0  0.897269   0.640693  0.199461  0.304214  0.592634\n"
     ]
    }
   ],
   "source": [
    "#Generating the scoring matrix of the Logistic Regression CV classifier\n",
    "class_report(y_valid, lg_y_pred)\n",
    "performance_score(y_valid, lg_y_pred)"
   ]
  },
  {
   "cell_type": "code",
   "execution_count": null,
   "metadata": {},
   "outputs": [],
   "source": []
  },
  {
   "cell_type": "markdown",
   "metadata": {},
   "source": [
    "##### Linear Support Vector classifier"
   ]
  },
  {
   "cell_type": "code",
   "execution_count": 38,
   "metadata": {},
   "outputs": [],
   "source": [
    "#Linear Support Vector classifier on test set using C = 10\n",
    "lsv_model_test = LinearSVC().set_params(C = 10, random_state = 2020)\n",
    "lsv_model_test.fit(X_train, y_train)\n",
    "lsv_y_pred = lsv_model_test.predict(X_valid)"
   ]
  },
  {
   "cell_type": "code",
   "execution_count": 39,
   "metadata": {},
   "outputs": [
    {
     "name": "stdout",
     "output_type": "stream",
     "text": [
      "              precision    recall  f1-score   support\n",
      "\n",
      "           0       0.91      0.99      0.94      5848\n",
      "           1       0.64      0.19      0.29       742\n",
      "\n",
      "    accuracy                           0.90      6590\n",
      "   macro avg       0.77      0.59      0.62      6590\n",
      "weighted avg       0.88      0.90      0.87      6590\n",
      "\n",
      "   accuracy  precision    recall        f1       auc\n",
      "0  0.896813    0.63964  0.191375  0.294606  0.588847\n"
     ]
    }
   ],
   "source": [
    "#Generating the scoring matrix of the Linear Support Vector classifier\n",
    "class_report(y_valid, lsv_y_pred)\n",
    "performance_score(y_valid, lsv_y_pred)"
   ]
  },
  {
   "cell_type": "code",
   "execution_count": null,
   "metadata": {},
   "outputs": [],
   "source": []
  },
  {
   "cell_type": "markdown",
   "metadata": {},
   "source": [
    "### 3.3 Model Tuning"
   ]
  },
  {
   "cell_type": "markdown",
   "metadata": {},
   "source": [
    "### 3.3.1 Addressing imbalanced dataset"
   ]
  },
  {
   "cell_type": "markdown",
   "metadata": {},
   "source": [
    "##### SMOTE-NC"
   ]
  },
  {
   "cell_type": "code",
   "execution_count": 40,
   "metadata": {},
   "outputs": [
    {
     "name": "stderr",
     "output_type": "stream",
     "text": [
      "Using TensorFlow backend.\n"
     ]
    }
   ],
   "source": [
    "#Resample the test data using SMOTE-NC\n",
    "#Please pip install imblearn if not installed previously\n",
    "from imblearn.over_sampling import SMOTENC\n",
    "\n",
    "#Using default k-nn of 5\n",
    "sm = SMOTENC(random_state = 2020, categorical_features = [4, 46]) \n",
    "X_train_res, y_train_res = sm.fit_sample(X_train, y_train.ravel())"
   ]
  },
  {
   "cell_type": "code",
   "execution_count": 41,
   "metadata": {},
   "outputs": [
    {
     "data": {
      "text/plain": [
       "20420"
      ]
     },
     "execution_count": 41,
     "metadata": {},
     "output_type": "execute_result"
    }
   ],
   "source": [
    "#Check number of synthetic data created\n",
    "len(y_train_res) - len(y_train)"
   ]
  },
  {
   "cell_type": "code",
   "execution_count": 42,
   "metadata": {},
   "outputs": [
    {
     "data": {
      "text/plain": [
       "0    23390\n",
       "1     2970\n",
       "Name: outcome, dtype: int64"
      ]
     },
     "execution_count": 42,
     "metadata": {},
     "output_type": "execute_result"
    }
   ],
   "source": [
    "#Check count of values of each label before SMOTE-NC\n",
    "y_train.value_counts()"
   ]
  },
  {
   "cell_type": "code",
   "execution_count": 43,
   "metadata": {},
   "outputs": [
    {
     "data": {
      "text/plain": [
       "1    23390\n",
       "0    23390\n",
       "Name: 0, dtype: int64"
      ]
     },
     "execution_count": 43,
     "metadata": {},
     "output_type": "execute_result"
    }
   ],
   "source": [
    "#Convert array of y_train after SMOTE-NC to DataFrame\n",
    "y_train_SMOTE = pd.DataFrame.from_records(y_train_res.reshape(-1,1))\n",
    "\n",
    "#Check count of values of each label after SMOTE-NC\n",
    "y_train_SMOTE[0].value_counts()"
   ]
  },
  {
   "cell_type": "raw",
   "metadata": {},
   "source": []
  },
  {
   "cell_type": "markdown",
   "metadata": {},
   "source": [
    "##### Random Forest classifier"
   ]
  },
  {
   "cell_type": "code",
   "execution_count": 44,
   "metadata": {},
   "outputs": [],
   "source": [
    "#Retrain Random Forest classifer\n",
    "rf_model_SMOTE = RandomForestClassifier().set_params(n_estimators = 50, bootstrap = True, n_jobs = -1, random_state = 2020)\n",
    "rf_model_SMOTE.fit(X_train_res, y_train_res)\n",
    "rf_y_pred = rf_model_SMOTE.predict(X_valid)"
   ]
  },
  {
   "cell_type": "code",
   "execution_count": 45,
   "metadata": {},
   "outputs": [
    {
     "name": "stdout",
     "output_type": "stream",
     "text": [
      "              precision    recall  f1-score   support\n",
      "\n",
      "           0       0.91      0.92      0.92      5848\n",
      "           1       0.35      0.32      0.33       742\n",
      "\n",
      "    accuracy                           0.86      6590\n",
      "   macro avg       0.63      0.62      0.63      6590\n",
      "weighted avg       0.85      0.86      0.85      6590\n",
      "\n",
      "   accuracy  precision    recall        f1       auc\n",
      "0  0.856146   0.348083  0.318059  0.332394  0.621239\n"
     ]
    }
   ],
   "source": [
    "#Generating the scoring matrix of the Random Forest classifier\n",
    "class_report(y_valid, rf_y_pred)\n",
    "performance_score(y_valid, rf_y_pred)"
   ]
  },
  {
   "cell_type": "raw",
   "metadata": {},
   "source": []
  },
  {
   "cell_type": "markdown",
   "metadata": {},
   "source": [
    "##### Logistic Regression classifier"
   ]
  },
  {
   "cell_type": "code",
   "execution_count": 46,
   "metadata": {},
   "outputs": [],
   "source": [
    "#Retrain Logistic Regression classifier\n",
    "lg_model_SMOTE = LogisticRegressionCV().set_params(penalty = \"l2\", solver = \"saga\", random_state = 2020)\n",
    "lg_model_SMOTE.fit(X_train_res, y_train_res)\n",
    "lg_y_pred = lg_model_SMOTE.predict(X_valid)"
   ]
  },
  {
   "cell_type": "code",
   "execution_count": 47,
   "metadata": {},
   "outputs": [
    {
     "name": "stdout",
     "output_type": "stream",
     "text": [
      "              precision    recall  f1-score   support\n",
      "\n",
      "           0       0.95      0.84      0.89      5848\n",
      "           1       0.33      0.61      0.43       742\n",
      "\n",
      "    accuracy                           0.82      6590\n",
      "   macro avg       0.64      0.73      0.66      6590\n",
      "weighted avg       0.88      0.82      0.84      6590\n",
      "\n",
      "   accuracy  precision    recall       f1      auc\n",
      "0  0.817602   0.332362  0.614555  0.43141  0.72896\n"
     ]
    }
   ],
   "source": [
    "#Generating the scoring matrix of the Logistic Regression classifier\n",
    "class_report(y_valid, lg_y_pred)\n",
    "performance_score(y_valid, lg_y_pred)"
   ]
  },
  {
   "cell_type": "raw",
   "metadata": {},
   "source": []
  },
  {
   "cell_type": "markdown",
   "metadata": {},
   "source": [
    "##### Linear Support Vector classifier"
   ]
  },
  {
   "cell_type": "code",
   "execution_count": 48,
   "metadata": {},
   "outputs": [],
   "source": [
    "#Retrain Linear Support Vector classifier\n",
    "lsv_model_SMOTE = LinearSVC().set_params(C = 10, random_state = 2020)\n",
    "lsv_model_SMOTE.fit(X_train_res, y_train_res)\n",
    "lsv_y_pred = lsv_model_SMOTE.predict(X_valid)"
   ]
  },
  {
   "cell_type": "code",
   "execution_count": 49,
   "metadata": {},
   "outputs": [
    {
     "name": "stdout",
     "output_type": "stream",
     "text": [
      "              precision    recall  f1-score   support\n",
      "\n",
      "           0       0.95      0.84      0.89      5848\n",
      "           1       0.33      0.62      0.43       742\n",
      "\n",
      "    accuracy                           0.81      6590\n",
      "   macro avg       0.64      0.73      0.66      6590\n",
      "weighted avg       0.88      0.81      0.84      6590\n",
      "\n",
      "   accuracy  precision    recall        f1       auc\n",
      "0  0.813202   0.326473  0.619946  0.427708  0.728834\n"
     ]
    }
   ],
   "source": [
    "#Generating the scoring matrix of the Linear Support Vector classifier\n",
    "class_report(y_valid, lsv_y_pred)\n",
    "performance_score(y_valid, lsv_y_pred)"
   ]
  },
  {
   "cell_type": "raw",
   "metadata": {},
   "source": []
  },
  {
   "cell_type": "markdown",
   "metadata": {},
   "source": [
    "##### Class weights"
   ]
  },
  {
   "cell_type": "code",
   "execution_count": 50,
   "metadata": {},
   "outputs": [
    {
     "data": {
      "text/plain": [
       "{0: 0.5634886703719538, 1: 4.437710437710438}"
      ]
     },
     "execution_count": 50,
     "metadata": {},
     "output_type": "execute_result"
    }
   ],
   "source": [
    "#Computing class weights\n",
    "from sklearn.utils import class_weight\n",
    "\n",
    "outcome = [0, 1]\n",
    "class_weights = dict(zip(outcome, class_weight.compute_class_weight(class_weight = \"balanced\", classes = [0, 1], y = y_train).tolist()))\n",
    "class_weights"
   ]
  },
  {
   "cell_type": "raw",
   "metadata": {},
   "source": []
  },
  {
   "cell_type": "markdown",
   "metadata": {},
   "source": [
    "##### Random Forest Classifier"
   ]
  },
  {
   "cell_type": "code",
   "execution_count": 51,
   "metadata": {},
   "outputs": [],
   "source": [
    "#Random Forest classifier with class weights\n",
    "rf_model_cw = RandomForestClassifier().set_params(n_estimators = 50, bootstrap = True, n_jobs = -1, random_state = 2020, class_weight = class_weights)\n",
    "rf_model_cw.fit(X_train, y_train)\n",
    "rf_y_pred = rf_model_cw.predict(X_valid)"
   ]
  },
  {
   "cell_type": "code",
   "execution_count": 52,
   "metadata": {},
   "outputs": [
    {
     "name": "stdout",
     "output_type": "stream",
     "text": [
      "              precision    recall  f1-score   support\n",
      "\n",
      "           0       0.91      0.94      0.93      5848\n",
      "           1       0.39      0.28      0.32       742\n",
      "\n",
      "    accuracy                           0.87      6590\n",
      "   macro avg       0.65      0.61      0.63      6590\n",
      "weighted avg       0.85      0.87      0.86      6590\n",
      "\n",
      "   accuracy  precision    recall        f1       auc\n",
      "0  0.869499   0.389098  0.278976  0.324961  0.611701\n"
     ]
    }
   ],
   "source": [
    "#Generating the scoring matrix of the Random Forest classifier\n",
    "class_report(y_valid, rf_y_pred)\n",
    "performance_score(y_valid, rf_y_pred)"
   ]
  },
  {
   "cell_type": "raw",
   "metadata": {},
   "source": []
  },
  {
   "cell_type": "markdown",
   "metadata": {},
   "source": [
    "##### Logistic Regression classifier"
   ]
  },
  {
   "cell_type": "code",
   "execution_count": 53,
   "metadata": {},
   "outputs": [],
   "source": [
    "#Logistic Regression CV classifier with class weights\n",
    "lg_model_cw = LogisticRegressionCV().set_params(penalty = \"l2\", solver = \"saga\", random_state = 2020, class_weight = class_weights)\n",
    "lg_model_cw.fit(X_train, y_train)\n",
    "lg_y_pred = lg_model_cw.predict(X_valid)"
   ]
  },
  {
   "cell_type": "code",
   "execution_count": 54,
   "metadata": {},
   "outputs": [
    {
     "name": "stdout",
     "output_type": "stream",
     "text": [
      "              precision    recall  f1-score   support\n",
      "\n",
      "           0       0.95      0.84      0.89      5848\n",
      "           1       0.33      0.62      0.43       742\n",
      "\n",
      "    accuracy                           0.82      6590\n",
      "   macro avg       0.64      0.73      0.66      6590\n",
      "weighted avg       0.88      0.82      0.84      6590\n",
      "\n",
      "   accuracy  precision    recall       f1       auc\n",
      "0  0.818058   0.333333  0.615903  0.43256  0.729805\n"
     ]
    }
   ],
   "source": [
    "#Generating the scoring matrix of the Logistic Regression CV classifier\n",
    "class_report(y_valid, lg_y_pred)\n",
    "performance_score(y_valid, lg_y_pred)"
   ]
  },
  {
   "cell_type": "raw",
   "metadata": {},
   "source": []
  },
  {
   "cell_type": "markdown",
   "metadata": {},
   "source": [
    "##### Linear Support Vector classifier"
   ]
  },
  {
   "cell_type": "code",
   "execution_count": 55,
   "metadata": {},
   "outputs": [],
   "source": [
    "#Support Linear Vector classifier with class weights\n",
    "lsv_model_cw = LinearSVC().set_params(C = 10, random_state = 2020, class_weight = class_weights)\n",
    "lsv_model_cw.fit(X_train, y_train)\n",
    "lsv_y_pred = lsv_model_cw.predict(X_valid)"
   ]
  },
  {
   "cell_type": "code",
   "execution_count": 56,
   "metadata": {},
   "outputs": [
    {
     "name": "stdout",
     "output_type": "stream",
     "text": [
      "              precision    recall  f1-score   support\n",
      "\n",
      "           0       0.94      0.88      0.91      5848\n",
      "           1       0.38      0.59      0.46       742\n",
      "\n",
      "    accuracy                           0.84      6590\n",
      "   macro avg       0.66      0.73      0.69      6590\n",
      "weighted avg       0.88      0.84      0.86      6590\n",
      "\n",
      "   accuracy  precision    recall        f1      auc\n",
      "0  0.844461   0.378332  0.592992  0.461942  0.73468\n"
     ]
    }
   ],
   "source": [
    "#Generating the scoring matrix of the Linear Support Vector classifier\n",
    "class_report(y_valid, lsv_y_pred)\n",
    "performance_score(y_valid, lsv_y_pred)"
   ]
  },
  {
   "cell_type": "raw",
   "metadata": {},
   "source": []
  },
  {
   "cell_type": "markdown",
   "metadata": {},
   "source": [
    "##### Random Forest with pruning"
   ]
  },
  {
   "cell_type": "markdown",
   "metadata": {},
   "source": [
    "##### Determining optimal alpha"
   ]
  },
  {
   "cell_type": "code",
   "execution_count": 57,
   "metadata": {},
   "outputs": [],
   "source": [
    "#Retrain Random Forest classifier with SMOTE-NC\n",
    "recall_list_SMOTE = []\n",
    "\n",
    "#Using a variation of alphas, compute the Recall\n",
    "for alpha in [0, 0.005, 0.010, 0.015, 0.020, 0.025, 0.030, 0.035]:\n",
    "    rf_model_SMOTE_prune = RandomForestClassifier().set_params(n_estimators = 50, bootstrap = True, n_jobs = -1, random_state = 2020, ccp_alpha = alpha)\n",
    "    rf_model_SMOTE_prune.fit(X_train_res, y_train_res)\n",
    "    rf_y_pred = rf_model_SMOTE_prune.predict(X_train_res)\n",
    "    recall = recall_score(y_train_res, rf_y_pred)\n",
    "    recall_list_SMOTE.append(pd.Series({\"alpha\": alpha, \"SMOTE\": recall}))\n",
    "    \n",
    "rf_df_SMOTE = pd.concat(recall_list_SMOTE, axis = 1).T.set_index(\"alpha\")"
   ]
  },
  {
   "cell_type": "code",
   "execution_count": 58,
   "metadata": {},
   "outputs": [],
   "source": [
    "#Retrain Random Forest classifier with class_weights\n",
    "recall_list_cw = []\n",
    "\n",
    "#Using a variation of alphas, compute the Recall\n",
    "for alpha in [0, 0.005, 0.010, 0.015, 0.020, 0.025, 0.030, 0.035]:\n",
    "    rf_model_cw_prune = RandomForestClassifier().set_params(n_estimators = 50, bootstrap = True, n_jobs = -1, random_state = 2020, class_weight = class_weights, ccp_alpha = alpha)\n",
    "    rf_model_cw_prune.fit(X_train, y_train)\n",
    "    rf_y_pred = rf_model_cw_prune.predict(X_train)\n",
    "    recall = recall_score(y_train, rf_y_pred)\n",
    "    recall_list_cw.append(pd.Series({\"alpha\": alpha, \"cw\": recall}))\n",
    "    \n",
    "rf_df_cw = pd.concat(recall_list_cw, axis = 1).T.set_index(\"alpha\")"
   ]
  },
  {
   "cell_type": "code",
   "execution_count": 59,
   "metadata": {},
   "outputs": [
    {
     "data": {
      "image/png": "[encoded data removed]",
      "text/plain": [
       "<Figure size 432x288 with 1 Axes>"
      ]
     },
     "metadata": {},
     "output_type": "display_data"
    }
   ],
   "source": [
    "#Create DataFrame of Random Forest classifier using SMOTE-NC and class_weights based on Recall\n",
    "df0 = pd.DataFrame(rf_df_SMOTE).set_index(rf_df_SMOTE.groupby(level = 0).cumcount(), append = True)\n",
    "df1 = pd.DataFrame(rf_df_cw).set_index(rf_df_cw.groupby(level = 0).cumcount(), append = True)\n",
    "recall_df_prune = pd.concat([df0, df1], axis = 1)\n",
    "recall_df_prune.index = recall_df_prune.index.droplevel(1)\n",
    "\n",
    "\n",
    "#Visualisation of DataFrame\n",
    "sns.set_context(\"poster\")\n",
    "sns.set_palette(\"dark\")\n",
    "sns.set_style(\"white\")\n",
    "\n",
    "ax = recall_df_prune.plot(marker = \"o\")\n",
    "ax.set(ylabel = \"Recall score\");"
   ]
  },
  {
   "cell_type": "markdown",
   "metadata": {},
   "source": [
    "##### Validating Random Forest with pruning"
   ]
  },
  {
   "cell_type": "code",
   "execution_count": 60,
   "metadata": {},
   "outputs": [],
   "source": [
    "#Retraining Random Forest using alpha = 0.03, SMOTE-NC method\n",
    "rf_model_SMOTE_prune = RandomForestClassifier().set_params(n_estimators = 50, bootstrap = True, n_jobs = -1, random_state = 2020, ccp_alpha = 0.03)\n",
    "rf_model_SMOTE_prune.fit(X_train_res, y_train_res)\n",
    "rf_y_pred = rf_model_SMOTE_prune.predict(X_valid)"
   ]
  },
  {
   "cell_type": "code",
   "execution_count": 61,
   "metadata": {},
   "outputs": [
    {
     "name": "stdout",
     "output_type": "stream",
     "text": [
      "              precision    recall  f1-score   support\n",
      "\n",
      "           0       0.95      0.72      0.82      5848\n",
      "           1       0.24      0.69      0.36       742\n",
      "\n",
      "    accuracy                           0.72      6590\n",
      "   macro avg       0.60      0.71      0.59      6590\n",
      "weighted avg       0.87      0.72      0.77      6590\n",
      "\n",
      "   accuracy  precision    recall       f1       auc\n",
      "0  0.721093   0.241753  0.691375  0.35824  0.708119\n"
     ]
    }
   ],
   "source": [
    "#Generating the scoring matrix of the Random Forest classifier\n",
    "class_report(y_valid, rf_y_pred)\n",
    "performance_score(y_valid, rf_y_pred)"
   ]
  },
  {
   "cell_type": "raw",
   "metadata": {},
   "source": []
  },
  {
   "cell_type": "markdown",
   "metadata": {},
   "source": [
    "### 3.3.2 Feature importance"
   ]
  },
  {
   "cell_type": "code",
   "execution_count": 62,
   "metadata": {},
   "outputs": [],
   "source": [
    "#Obtaining feature importance list from the Random Forest model\n",
    "feature_impt = dict(zip(feature_cols, rf_model_SMOTE_prune.feature_importances_.tolist()))\n",
    "df_feature_impt = pd.DataFrame.from_dict(feature_impt, orient = \"index\", columns = [\"Feature Importance\"])"
   ]
  },
  {
   "cell_type": "code",
   "execution_count": 63,
   "metadata": {},
   "outputs": [
    {
     "data": {
      "text/html": [
       "<div>\n",
       "<style scoped>\n",
       "    .dataframe tbody tr th:only-of-type {\n",
       "        vertical-align: middle;\n",
       "    }\n",
       "\n",
       "    .dataframe tbody tr th {\n",
       "        vertical-align: top;\n",
       "    }\n",
       "\n",
       "    .dataframe thead th {\n",
       "        text-align: right;\n",
       "    }\n",
       "</style>\n",
       "<table border=\"1\" class=\"dataframe\">\n",
       "  <thead>\n",
       "    <tr style=\"text-align: right;\">\n",
       "      <th></th>\n",
       "      <th>Feature Importance</th>\n",
       "    </tr>\n",
       "  </thead>\n",
       "  <tbody>\n",
       "    <tr>\n",
       "      <th>EVI</th>\n",
       "      <td>0.310558</td>\n",
       "    </tr>\n",
       "    <tr>\n",
       "      <th>p_outcome_success</th>\n",
       "      <td>0.181033</td>\n",
       "    </tr>\n",
       "    <tr>\n",
       "      <th>p_outcome_nonexistent</th>\n",
       "      <td>0.162162</td>\n",
       "    </tr>\n",
       "    <tr>\n",
       "      <th>CCI</th>\n",
       "      <td>0.134271</td>\n",
       "    </tr>\n",
       "    <tr>\n",
       "      <th>contact_cellular</th>\n",
       "      <td>0.108108</td>\n",
       "    </tr>\n",
       "    <tr>\n",
       "      <th>contact_telephone</th>\n",
       "      <td>0.068294</td>\n",
       "    </tr>\n",
       "    <tr>\n",
       "      <th>CPI</th>\n",
       "      <td>0.017466</td>\n",
       "    </tr>\n",
       "    <tr>\n",
       "      <th>age</th>\n",
       "      <td>0.012643</td>\n",
       "    </tr>\n",
       "    <tr>\n",
       "      <th>month_oct</th>\n",
       "      <td>0.003591</td>\n",
       "    </tr>\n",
       "    <tr>\n",
       "      <th>job_blue-collar</th>\n",
       "      <td>0.001873</td>\n",
       "    </tr>\n",
       "    <tr>\n",
       "      <th>p_outcome_failure</th>\n",
       "      <td>0.000000</td>\n",
       "    </tr>\n",
       "    <tr>\n",
       "      <th>month_mar</th>\n",
       "      <td>0.000000</td>\n",
       "    </tr>\n",
       "    <tr>\n",
       "      <th>month_apr</th>\n",
       "      <td>0.000000</td>\n",
       "    </tr>\n",
       "    <tr>\n",
       "      <th>debt_no</th>\n",
       "      <td>0.000000</td>\n",
       "    </tr>\n",
       "    <tr>\n",
       "      <th>month_aug</th>\n",
       "      <td>0.000000</td>\n",
       "    </tr>\n",
       "    <tr>\n",
       "      <th>month_dec</th>\n",
       "      <td>0.000000</td>\n",
       "    </tr>\n",
       "    <tr>\n",
       "      <th>month_jul</th>\n",
       "      <td>0.000000</td>\n",
       "    </tr>\n",
       "    <tr>\n",
       "      <th>month_jun</th>\n",
       "      <td>0.000000</td>\n",
       "    </tr>\n",
       "    <tr>\n",
       "      <th>month_may</th>\n",
       "      <td>0.000000</td>\n",
       "    </tr>\n",
       "    <tr>\n",
       "      <th>day_of_week_wed</th>\n",
       "      <td>0.000000</td>\n",
       "    </tr>\n",
       "    <tr>\n",
       "      <th>month_nov</th>\n",
       "      <td>0.000000</td>\n",
       "    </tr>\n",
       "    <tr>\n",
       "      <th>month_sep</th>\n",
       "      <td>0.000000</td>\n",
       "    </tr>\n",
       "    <tr>\n",
       "      <th>day_of_week_mon</th>\n",
       "      <td>0.000000</td>\n",
       "    </tr>\n",
       "    <tr>\n",
       "      <th>day_of_week_thu</th>\n",
       "      <td>0.000000</td>\n",
       "    </tr>\n",
       "    <tr>\n",
       "      <th>day_of_week_tue</th>\n",
       "      <td>0.000000</td>\n",
       "    </tr>\n",
       "    <tr>\n",
       "      <th>day_of_week_fri</th>\n",
       "      <td>0.000000</td>\n",
       "    </tr>\n",
       "    <tr>\n",
       "      <th>education_professional.course</th>\n",
       "      <td>0.000000</td>\n",
       "    </tr>\n",
       "    <tr>\n",
       "      <th>education_university.degree</th>\n",
       "      <td>0.000000</td>\n",
       "    </tr>\n",
       "    <tr>\n",
       "      <th>education_illiterate</th>\n",
       "      <td>0.000000</td>\n",
       "    </tr>\n",
       "    <tr>\n",
       "      <th>job_admin.</th>\n",
       "      <td>0.000000</td>\n",
       "    </tr>\n",
       "    <tr>\n",
       "      <th>job_entrepreneur</th>\n",
       "      <td>0.000000</td>\n",
       "    </tr>\n",
       "    <tr>\n",
       "      <th>job_housemaid</th>\n",
       "      <td>0.000000</td>\n",
       "    </tr>\n",
       "    <tr>\n",
       "      <th>job_management</th>\n",
       "      <td>0.000000</td>\n",
       "    </tr>\n",
       "    <tr>\n",
       "      <th>job_retired</th>\n",
       "      <td>0.000000</td>\n",
       "    </tr>\n",
       "    <tr>\n",
       "      <th>job_self-employed</th>\n",
       "      <td>0.000000</td>\n",
       "    </tr>\n",
       "    <tr>\n",
       "      <th>job_services</th>\n",
       "      <td>0.000000</td>\n",
       "    </tr>\n",
       "    <tr>\n",
       "      <th>job_student</th>\n",
       "      <td>0.000000</td>\n",
       "    </tr>\n",
       "    <tr>\n",
       "      <th>job_technician</th>\n",
       "      <td>0.000000</td>\n",
       "    </tr>\n",
       "    <tr>\n",
       "      <th>job_unemployed</th>\n",
       "      <td>0.000000</td>\n",
       "    </tr>\n",
       "    <tr>\n",
       "      <th>marital_divorced</th>\n",
       "      <td>0.000000</td>\n",
       "    </tr>\n",
       "    <tr>\n",
       "      <th>marital_married</th>\n",
       "      <td>0.000000</td>\n",
       "    </tr>\n",
       "    <tr>\n",
       "      <th>marital_single</th>\n",
       "      <td>0.000000</td>\n",
       "    </tr>\n",
       "    <tr>\n",
       "      <th>education_basic.4y</th>\n",
       "      <td>0.000000</td>\n",
       "    </tr>\n",
       "    <tr>\n",
       "      <th>education_basic.6y</th>\n",
       "      <td>0.000000</td>\n",
       "    </tr>\n",
       "    <tr>\n",
       "      <th>education_basic.9y</th>\n",
       "      <td>0.000000</td>\n",
       "    </tr>\n",
       "    <tr>\n",
       "      <th>education_high.school</th>\n",
       "      <td>0.000000</td>\n",
       "    </tr>\n",
       "    <tr>\n",
       "      <th>debt_yes</th>\n",
       "      <td>0.000000</td>\n",
       "    </tr>\n",
       "  </tbody>\n",
       "</table>\n",
       "</div>"
      ],
      "text/plain": [
       "                               Feature Importance\n",
       "EVI                                      0.310558\n",
       "p_outcome_success                        0.181033\n",
       "p_outcome_nonexistent                    0.162162\n",
       "CCI                                      0.134271\n",
       "contact_cellular                         0.108108\n",
       "contact_telephone                        0.068294\n",
       "CPI                                      0.017466\n",
       "age                                      0.012643\n",
       "month_oct                                0.003591\n",
       "job_blue-collar                          0.001873\n",
       "p_outcome_failure                        0.000000\n",
       "month_mar                                0.000000\n",
       "month_apr                                0.000000\n",
       "debt_no                                  0.000000\n",
       "month_aug                                0.000000\n",
       "month_dec                                0.000000\n",
       "month_jul                                0.000000\n",
       "month_jun                                0.000000\n",
       "month_may                                0.000000\n",
       "day_of_week_wed                          0.000000\n",
       "month_nov                                0.000000\n",
       "month_sep                                0.000000\n",
       "day_of_week_mon                          0.000000\n",
       "day_of_week_thu                          0.000000\n",
       "day_of_week_tue                          0.000000\n",
       "day_of_week_fri                          0.000000\n",
       "education_professional.course            0.000000\n",
       "education_university.degree              0.000000\n",
       "education_illiterate                     0.000000\n",
       "job_admin.                               0.000000\n",
       "job_entrepreneur                         0.000000\n",
       "job_housemaid                            0.000000\n",
       "job_management                           0.000000\n",
       "job_retired                              0.000000\n",
       "job_self-employed                        0.000000\n",
       "job_services                             0.000000\n",
       "job_student                              0.000000\n",
       "job_technician                           0.000000\n",
       "job_unemployed                           0.000000\n",
       "marital_divorced                         0.000000\n",
       "marital_married                          0.000000\n",
       "marital_single                           0.000000\n",
       "education_basic.4y                       0.000000\n",
       "education_basic.6y                       0.000000\n",
       "education_basic.9y                       0.000000\n",
       "education_high.school                    0.000000\n",
       "debt_yes                                 0.000000"
      ]
     },
     "execution_count": 63,
     "metadata": {},
     "output_type": "execute_result"
    }
   ],
   "source": [
    "#Absolute the feature importance for comparability\n",
    "df_feature_impt = df_feature_impt.abs()\n",
    "\n",
    "#Sort the feature importance in descending order\n",
    "df_feature_impt.sort_values(\"Feature Importance\", ascending = False)"
   ]
  },
  {
   "cell_type": "raw",
   "metadata": {},
   "source": []
  },
  {
   "cell_type": "markdown",
   "metadata": {},
   "source": [
    "### 4 Evaluation"
   ]
  },
  {
   "cell_type": "code",
   "execution_count": 64,
   "metadata": {},
   "outputs": [],
   "source": [
    "#Testing Random Forest model with the test set\n",
    "rf_model_SMOTE_prune = RandomForestClassifier().set_params(n_estimators = 50, bootstrap = True, n_jobs = -1, random_state = 2020, ccp_alpha = 0.03)\n",
    "rf_model_SMOTE_prune.fit(X_train_res, y_train_res)\n",
    "rf_y_pred = rf_model_SMOTE_prune.predict(X_test)"
   ]
  },
  {
   "cell_type": "code",
   "execution_count": 65,
   "metadata": {},
   "outputs": [],
   "source": [
    "#Defining the confusion matrix functions\n",
    "import sklearn.metrics as sklm\n",
    "from sklearn.metrics import precision_recall_curve\n",
    "\n",
    "def print_metrics(labels, predicted):\n",
    "    metrics = sklm.precision_recall_fscore_support(labels, predicted)\n",
    "    conf = sklm.confusion_matrix(labels, predicted)\n",
    "    print('                            Confusion matrix')\n",
    "    print('                 Predicted positive    Predicted negative')\n",
    "    print('Actual positive    %6d' % conf[1,1] + '                  %5d' % conf[1,0])\n",
    "    print('Actual negative    %6d' % conf[0,1] + '                  %5d' % conf[0,0])\n",
    "    print('')\n",
    "    print('Accuracy        %0.2f' % sklm.accuracy_score(labels, predicted))\n",
    "    print('AUC             %0.2f' % sklm.roc_auc_score(labels, predicted))\n",
    "    print('Macro precision %0.2f' % float((float(metrics[0][0]) + float(metrics[0][1]))/2.0))\n",
    "    print('Macro recall    %0.2f' % float((float(metrics[1][0]) + float(metrics[1][1]))/2.0))\n",
    "    print(' ')\n",
    "    print('           Positive      Negative')\n",
    "    print('Num case   %6d' % metrics[3][1] + '        %6d' % metrics[3][0])\n",
    "    print('Precision  %6.2f' % metrics[0][1] + '        %6.2f' % metrics[0][0])\n",
    "    print('Recall     %6.2f' % metrics[1][1] + '        %6.2f' % metrics[1][0])\n",
    "    print('F1         %6.2f' % metrics[2][1] + '        %6.2f' % metrics[2][0])\n"
   ]
  },
  {
   "cell_type": "code",
   "execution_count": 66,
   "metadata": {},
   "outputs": [
    {
     "name": "stdout",
     "output_type": "stream",
     "text": [
      "                            Confusion matrix\n",
      "                 Predicted positive    Predicted negative\n",
      "Actual positive       651                    277\n",
      "Actual negative      2040                   5270\n",
      "\n",
      "Accuracy        0.72\n",
      "AUC             0.71\n",
      "Macro precision 0.60\n",
      "Macro recall    0.71\n",
      " \n",
      "           Positive      Negative\n",
      "Num case      928          7310\n",
      "Precision    0.24          0.95\n",
      "Recall       0.70          0.72\n",
      "F1           0.36          0.82\n"
     ]
    }
   ],
   "source": [
    "#Extracting the Random Forest model's confusion matrix\n",
    "print_metrics(y_test, rf_y_pred)"
   ]
  },
  {
   "cell_type": "code",
   "execution_count": null,
   "metadata": {},
   "outputs": [],
   "source": []
  },
  {
   "cell_type": "code",
   "execution_count": null,
   "metadata": {},
   "outputs": [],
   "source": []
  }
 ],
 "metadata": {
  "kernelspec": {
   "display_name": "Python 3",
   "language": "python",
   "name": "python3"
  },
  "language_info": {
   "codemirror_mode": {
    "name": "ipython",
    "version": 3
   },
   "file_extension": ".py",
   "mimetype": "text/x-python",
   "name": "python",
   "nbconvert_exporter": "python",
   "pygments_lexer": "ipython3",
   "version": "3.7.6"
  }
 },
 "nbformat": 4,
 "nbformat_minor": 4
}
